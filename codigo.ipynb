{
 "cells": [
  {
   "cell_type": "markdown",
   "metadata": {},
   "source": [
    "Conexão do Psycopg com o Banco de dados"
   ]
  },
  {
   "cell_type": "code",
   "execution_count": 68,
   "metadata": {},
   "outputs": [],
   "source": [
    "import psycopg2\n",
    "\n",
    "conn = psycopg2.connect(host=\"200.129.44.249\", database=\"553095\", user=\"553095\", password=\"553095\")\n",
    "\n",
    "cur = conn.cursor()\n"
   ]
  },
  {
   "cell_type": "markdown",
   "metadata": {},
   "source": [
    "Criação Tabelas 2.2"
   ]
  },
  {
   "cell_type": "code",
   "execution_count": 69,
   "metadata": {},
   "outputs": [
    {
     "name": "stdout",
     "output_type": "stream",
     "text": [
      "rodando 6\n"
     ]
    }
   ],
   "source": [
    "cur.execute(\"DROP TABLE IF EXISTS public.Curso CASCADE\")\n",
    "cur.execute(\"CREATE TABLE public.Curso(id INT, nome VARCHAR(100), regime VARCHAR(100), duracao INT, primary key(id))\")\n",
    "conn.commit()   \n",
    "\n",
    "cur.execute(\"DROP TABLE IF EXISTS public.Aluno CASCADE\")\n",
    "cur.execute(\"CREATE TABLE public.aluno(id INT, nome VARCHAR(100), curso_id INT, semestre INT, PRIMARY KEY(id), FOREIGN KEY(curso_id) REFERENCES Curso(id))\")\n",
    "conn.commit()   \n",
    "\n",
    "cur.execute(\"DROP TABLE IF EXISTS public.Professor CASCADE\")\n",
    "cur.execute(\"CREATE TABLE public.Professor(id INT, nome VARCHAR(100), area_especializacao VARCHAR(100), contato VARCHAR(100), curso_id INT, PRIMARY KEY(id), FOREIGN KEY(curso_id) REFERENCES Curso(id))\")\n",
    "conn.commit()   \n",
    "\n",
    "cur.execute(\"DROP TABLE IF EXISTS public.Disciplina CASCADE\")\n",
    "cur.execute(\"CREATE TABLE public.Disciplina(id INT, codigo VARCHAR(10) UNIQUE, nome VARCHAR(100), area_especializacao VARCHAR(100), Carga_horaria INT, curso_id INT, PRIMARY KEY(id), FOREIGN KEY(curso_id) REFERENCES Curso(id))\")\n",
    "conn.commit()   \n",
    "\n",
    "cur.execute(\"DROP TABLE IF EXISTS public.Turma CASCADE\")\n",
    "cur.execute(\"CREATE TABLE public.Turma(id INT, codigo VARCHAR(10) UNIQUE, disciplina_id INT, semestre VARCHAR(20), capacidade_maxima INT, estado VARCHAR(20), prof_id INT, PRIMARY KEY(id), FOREIGN KEY(disciplina_id) REFERENCES Disciplina(id), FOREIGN KEY(prof_id) REFERENCES Professor(id))\")\n",
    "conn.commit()   \n",
    "\n",
    "cur.execute(\"DROP TABLE IF EXISTS public.Aluno_Turma CASCADE\")\n",
    "cur.execute(\"CREATE TABLE public.Aluno_Turma(aluno_id INT, turma_id INT, PRIMARY KEY(aluno_id, turma_id), FOREIGN KEY(aluno_id) REFERENCES Aluno(id), FOREIGN KEY(turma_id) REFERENCES Turma(id))\")\n",
    "print(\"rodando 6\")\n",
    "conn.commit()\n"
   ]
  },
  {
   "cell_type": "markdown",
   "metadata": {},
   "source": [
    "Inserção de Dados 2.3\n"
   ]
  },
  {
   "cell_type": "code",
   "execution_count": 70,
   "metadata": {},
   "outputs": [],
   "source": [
    "cur.execute(\"Insert into public.Curso(id, nome, regime, duracao) values(1, 'Ciências da Computação', 'Semestral', 8), (2, 'Engenharia de Software', 'Anual', 10), (3, 'Sistemas de Informação', 'Semestral', 8) \")\n",
    "conn.commit()   \n",
    "\n",
    "cur.execute(\"Insert into public.Aluno(id, nome, curso_id, semestre) values(1, 'João Silva', 1, 1), (2, 'Maria Costa', 1, 1), (3, 'Ana Souza', 3, 5), (4, 'Pedro Almeida', 2, 3), (5, 'Lucas Santos', 2, 3)\")\n",
    "conn.commit()   \n",
    "\n",
    "cur.execute(\"Insert into public.Professor(id, nome, area_especializacao, contato, curso_id) values(1, 'Maria Oliveira', 'Banco de Dados', 'maria@ufc.br', 1), (2, 'João Pereira', 'Redes de Computadores', 'joao@ufc.br', 2), (3, 'Ana Silva', 'Inteligência Artificial', 'ana@ufc.br', 3), (4, 'Paulo Santos', 'Engenharia de Software', 'paulo@ufc.br', 2), (5, 'Carla Mendes', 'Redes de Computadores', 'carla@ufc.br', 1)\")\n",
    "conn.commit()   \n",
    "\n",
    "cur.execute(\"Insert into public.Disciplina(id, codigo, nome, area_especializacao, carga_horaria, curso_id) values(1, 'BD001', 'Fundamentos de Bancos de Dados', 'Banco de Dados', 60, 1), (2, 'IA002', 'Inteligência Computacional Aplicada', 'Inteligência Artificial', 80, 3), (3, 'RS003', 'Segurança da Informação', 'Redes de Computadores', 40, 2), (4, 'BD004', 'Introdução à Ciência de Dados', 'Banco de Dados', 60, 1), (5, 'ES005', 'Qualidade de Software', 'Engenharia de Software', 50, 2)\")\n",
    "conn.commit()   \n",
    "\n",
    "cur.execute(\"Insert into public.Turma(id, codigo, disciplina_id, semestre, capacidade_maxima, estado, prof_id) values(1, 'CC2024BD1', 1, '2024.2', 4, 'Aberta', 1), (2, 'CC2024IA1', 2, '2024.2', 4, 'Aberta', 3), (3, 'CC2024RS1', 3, '2024.1', 8, 'Aberta', 2), (4, 'CC2024DS1', 4, '2024.2', 4, 'Aberta', 1), (5, 'CC2024ES1', 5, '2024.2', 8, 'Aberta', 4)\")\n",
    "conn.commit()   \n",
    "\n",
    "cur.execute(\"Insert into public.Aluno_Turma(aluno_id, turma_id) values(1, 1), (2, 1), (3, 2), (4, 3), (5, 4), (1, 5), (2, 4), (3, 5), (4, 2), (5, 3)\")\n",
    "conn.commit()   "
   ]
  },
  {
   "cell_type": "markdown",
   "metadata": {},
   "source": [
    "Consulta 2.4"
   ]
  },
  {
   "cell_type": "code",
   "execution_count": 71,
   "metadata": {},
   "outputs": [
    {
     "name": "stdout",
     "output_type": "stream",
     "text": [
      "[(5, 'CC2024ES1', 5, '2024.2', 8, 'Aberta', 4, 2), (4, 'CC2024DS1', 4, '2024.2', 4, 'Aberta', 1, 2), (2, 'CC2024IA1', 2, '2024.2', 4, 'Aberta', 3, 2), (1, 'CC2024BD1', 1, '2024.2', 4, 'Aberta', 1, 2), (3, 'CC2024RS1', 3, '2024.1', 8, 'Aberta', 2, 2)]\n",
      "[(1, 'João Silva', 1, 1, 1, 'Fundamentos de Bancos de Dados'), (2, 'Maria Costa', 1, 1, 1, 'Fundamentos de Bancos de Dados')]\n",
      "[(2,)]\n"
     ]
    }
   ],
   "source": [
    "querry = []\n",
    "\n",
    "cur.execute(\"SELECT t.*, COUNT(t.id) as total_alunos FROM public.turma t, public.aluno_turma alt WHERE t.id = alt.turma_id GROUP BY(t.id)\")\n",
    "querry.append(cur.fetchall())\n",
    "\n",
    "cur.execute(\"SELECT a.*, t.disciplina_id, d.nome FROM public.turma t, public.aluno_turma alt, public.aluno a, public.disciplina d WHERE a.id = alt.aluno_id and t.id = alt.turma_id and t.disciplina_id = d.id and d.nome = 'Fundamentos de Bancos de Dados'\")\n",
    "querry.append(cur.fetchall())\n",
    "\n",
    "cur.execute(\"SELECT COUNT (c.id) FROM public.professor p, public.curso c WHERE p.curso_id = c.id and c.nome = 'Ciências da Computação'\")\n",
    "querry.append(cur.fetchall())\n",
    "\n",
    "conn.commit()\n",
    "\n",
    "\n",
    "\n",
    "for i in querry:\n",
    "    print(i)"
   ]
  },
  {
   "cell_type": "markdown",
   "metadata": {},
   "source": [
    "Transação 2.5"
   ]
  },
  {
   "cell_type": "code",
   "execution_count": 72,
   "metadata": {},
   "outputs": [],
   "source": [
    "cur.execute(\"UPDATE public.turma SET estado = 'Fechada' WHERE codigo = 'CC2024DS1'\")\n",
    "cur.execute(\"DELETE FROM public.aluno_turma WHERE turma_id = 4\")\n",
    "\n",
    "conn.commit()"
   ]
  },
  {
   "cell_type": "markdown",
   "metadata": {},
   "source": [
    "Procedimento Armazenado 2.6"
   ]
  },
  {
   "cell_type": "code",
   "execution_count": 73,
   "metadata": {},
   "outputs": [],
   "source": [
    "cur.execute(\"CALL inc_semestre(1)\")\n",
    "conn.commit()   "
   ]
  },
  {
   "cell_type": "markdown",
   "metadata": {},
   "source": [
    "Trigger 2.7.3"
   ]
  },
  {
   "cell_type": "code",
   "execution_count": 74,
   "metadata": {},
   "outputs": [
    {
     "name": "stdout",
     "output_type": "stream",
     "text": [
      "A turma 1 já atingiu a capacidade máxima.\n",
      "CONTEXT:  PL/pgSQL function verificar_capacidade_turma() line 14 at RAISE\n",
      "\n"
     ]
    }
   ],
   "source": [
    "\n",
    "cur.execute(\"CREATE TRIGGER trig_verificar_capacidade_turma BEFORE INSERT ON aluno_turma FOR EACH ROW EXECUTE FUNCTION verificar_capacidade_turma();\")\n",
    "conn.commit()\n",
    "\n",
    "try:\n",
    "    cur.execute(\"Insert into public.Aluno_Turma(aluno_id, turma_id) values(3, 1), (5, 1), (4, 1)\")\n",
    "    conn.commit()\n",
    "except psycopg2.Error as e:\n",
    "    print(e)\n",
    " "
   ]
  },
  {
   "cell_type": "markdown",
   "metadata": {},
   "source": [
    "Trigger 2.7.4"
   ]
  },
  {
   "cell_type": "code",
   "execution_count": 8,
   "metadata": {},
   "outputs": [],
   "source": [
    "cur.execute(\"Insert into public.Aluno_Turma(aluno_id, turma_id) values(1, 2), (1, 3), (1, 4)\")\n",
    "conn.commit() "
   ]
  },
  {
   "cell_type": "code",
   "execution_count": 75,
   "metadata": {},
   "outputs": [],
   "source": [
    "cur.close()\n",
    "conn.close()"
   ]
  }
 ],
 "metadata": {
  "kernelspec": {
   "display_name": "Python 3",
   "language": "python",
   "name": "python3"
  },
  "language_info": {
   "codemirror_mode": {
    "name": "ipython",
    "version": 3
   },
   "file_extension": ".py",
   "mimetype": "text/x-python",
   "name": "python",
   "nbconvert_exporter": "python",
   "pygments_lexer": "ipython3",
   "version": "3.12.8"
  }
 },
 "nbformat": 4,
 "nbformat_minor": 2
}
